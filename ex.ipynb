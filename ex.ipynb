{
 "cells": [
  {
   "cell_type": "markdown",
   "metadata": {},
   "source": [
    "Installing the requirements:"
   ]
  },
  {
   "cell_type": "code",
   "execution_count": 1,
   "metadata": {},
   "outputs": [
    {
     "name": "stdout",
     "output_type": "stream",
     "text": [
      "Defaulting to user installation because normal site-packages is not writeable\n",
      "Requirement already satisfied: numpy in /Users/parham/Library/Python/3.9/lib/python/site-packages (1.26.2)\n"
     ]
    }
   ],
   "source": [
    "!pip3 install numpy"
   ]
  },
  {
   "cell_type": "markdown",
   "metadata": {},
   "source": [
    "Importing needed libraries"
   ]
  },
  {
   "cell_type": "code",
   "execution_count": 14,
   "metadata": {},
   "outputs": [],
   "source": [
    "import math\n",
    "import random\n",
    "import time\n",
    "import numpy as np"
   ]
  },
  {
   "cell_type": "markdown",
   "metadata": {},
   "source": [
    "Defining the class and algorithmm of RBF network\n",
    "\n",
    "For calculating the centers and the sizes we used input data driven."
   ]
  },
  {
   "cell_type": "code",
   "execution_count": 296,
   "metadata": {},
   "outputs": [],
   "source": [
    "class RBF_net:\n",
    "    #first we initialize the network and set number of neurones in each layer\n",
    "    def __init__(self,Ni,Ki,Mi,flag_bias):\n",
    "        self.eta=0.2\n",
    "        self.N=Ni\n",
    "        self.K=Ki\n",
    "        self.M=Mi        \n",
    "        self.ck=[random.random() for x in range(Ki)]\n",
    "        self.sk=[0 for x in range(Ki)]\n",
    "        self.rk=[0 for x in range(Ki)]\n",
    "        self.om=[0 for x in range(Mi)]\n",
    "        self.netm=[0 for x in range(Mi)]\n",
    "        self.flag_bias=flag_bias\n",
    "        if flag_bias:\n",
    "            self.ws=[[(random.random()-0.5) for j in range(Ki+1)] for i in range(M)]\n",
    "        else:\n",
    "            self.ws=[[(random.random()-0.5) for j in range(Ki)] for i in range(Mi)]\n",
    "        \n",
    "        self.trans=math.tanh\n",
    "        self.dtrans=lambda x: 1-x**2\n",
    "        \n",
    "    def distance(self,x,c):\n",
    "        #this is the function to calculate the distance from a given input to the center then we power it to 2 and sum all of them to calculate the\n",
    "        # the distance in higher dimensions \n",
    "        return abs(x-c)\n",
    "    def radialFunction(self,dis,size):\n",
    "        #for the radial function we use the gausian function\n",
    "        return math.e**(-(dis**2)/(2*(size**2)))\n",
    "\n",
    "    def forward(self,X):\n",
    "        #one step of forwarding a given input throgh the network\n",
    "        for k in range(self.K):\n",
    "            #RBF layer\n",
    "            dis=0\n",
    "            for n in range(self.N):\n",
    "                dis+=(self.distance(X[n],self.ck[k]))**2\n",
    "            self.rk[k]=self.radialFunction(dis,self.sk[k])**(1/2)      \n",
    "\n",
    "        for m in range(self.M):\n",
    "            #output layer\n",
    "            temp_sum=0\n",
    "            for k in range(self.K):\n",
    "               \n",
    "                temp_sum+=self.rk[k]*self.ws[m][k] \n",
    "            if(self.flag_bias):\n",
    "                temp_sum+=1*self.ws[m][-1]\n",
    "            \n",
    "            #filling the reseult into the lists that we considered for the result and net of the output layer neurones\n",
    "            self.netm[m]=temp_sum\n",
    "            self.om[m]=self.trans(self.netm[m])\n",
    "\n",
    "    def iter_train(self,X,Y):\n",
    "        #one iteration of training of the output layer using gradient decent\n",
    "        self.forward(X)\n",
    "        for m in range(self.M):\n",
    "            delta=(Y[m]-self.om[m])*self.dtrans(self.netm[m])\n",
    "            for k in range(self.K):\n",
    "                wdif=self.eta*delta*self.rk[k]\n",
    "                self.ws[m][k]=self.ws[m][k]-wdif\n",
    "        \n",
    "        \n",
    "    def size_cal(self,centers,neighbors):\n",
    "        #a function to calculate sizes of each rbf neurone\n",
    "        \n",
    "        # Avoid distance to itself\n",
    "        distances = np.linalg.norm(centers[:, np.newaxis] - centers, axis=2)\n",
    "        np.fill_diagonal(distances, np.inf)  \n",
    "        sorted_distances = np.sort(distances, axis=1)\n",
    "        sizes = np.mean(sorted_distances[:, :neighbors], axis=1)\n",
    "        \n",
    "        return sizes\n",
    "    \n",
    "    def train(self,X,Y,neighbors):\n",
    "        \n",
    "        #RBF layer train using Input Data driven method\n",
    "        # Choose the number of RBF centers\n",
    "        num_centers = self.K \n",
    "        X_np=np.array(X)\n",
    "        initial_centers_indices = np.random.choice(range(len(X_np)), size=num_centers, replace=False).astype(int)\n",
    "        centers = X_np[initial_centers_indices]\n",
    "        sizes = self.size_cal(centers,neighbors)\n",
    "        self.sk=sizes.tolist()\n",
    "\n",
    "        #output layer training using gradient decent\n",
    "        for i in range(len(X)):\n",
    "            self.iter_train(X[i],Y[i])\n",
    "\n",
    "\n",
    "\n",
    "\n",
    "\n"
   ]
  },
  {
   "cell_type": "markdown",
   "metadata": {},
   "source": [
    "Here are the settings for RBF layer and the input data."
   ]
  },
  {
   "cell_type": "code",
   "execution_count": 324,
   "metadata": {},
   "outputs": [],
   "source": [
    "input_path=\"PA-A_training_data_04.txt\"\n",
    "RBFCount=8\n",
    "neighbors=3"
   ]
  },
  {
   "cell_type": "markdown",
   "metadata": {},
   "source": [
    "The run and training section:\n",
    "after setting all the variables next cell reads data from a file and start training.\n",
    "Because of randomness each time that we run the program we get different results"
   ]
  },
  {
   "cell_type": "code",
   "execution_count": 325,
   "metadata": {},
   "outputs": [
    {
     "name": "stdout",
     "output_type": "stream",
     "text": [
      "Done!\n",
      "error average: 0.2287941735899099\n"
     ]
    }
   ],
   "source": [
    "X, y = [], []\n",
    "\n",
    "with open(input_path, 'r') as inp:\n",
    "    # the structure of the dataset is parsed from the second line\n",
    "    inp.readline()\n",
    "    in_n, out_n = inp.readline().split()[2:]\n",
    "    in_n = int(in_n[2:])\n",
    "    out_n = int(out_n[2:])\n",
    "\n",
    "    for line in inp:\n",
    "        if line and not line.startswith('#'):\n",
    "            # we again, parse each line by a space to get the list of integer values\n",
    "            vals = [int(float(v)) for v in line.strip('\\n').strip(' ').split(' ') if v]\n",
    "\n",
    "            # we split the values into x and y\n",
    "            X.append(vals[:-out_n])\n",
    "            y.append(vals[-out_n:])\n",
    "\n",
    "\n",
    "\n",
    "\n",
    "\n",
    "#create the model and start training    \n",
    "while(True):   \n",
    "    try:\n",
    "        rbf=RBF_net(in_n,RBFCount,out_n,False)\n",
    "        rbf.train(X,y,neighbors)\n",
    "        break\n",
    "    except :\n",
    "        print(\"overflow might happen or the number of the neurones inside rbf layers are more than P\")\n",
    "        time.sleep(2)\n",
    "        print(\"if RBF layer setting is ok please wait!!\")\n",
    "\n",
    "#testing the model           \n",
    "sum_error=0\n",
    "for i in range(len(X)):\n",
    "    rbf.forward(X[i])\n",
    "        \n",
    "    sum_error+=(rbf.om[0]-y[i][0])**2\n",
    "avge=sum_error/len(y)\n",
    "print(\"Done!\")\n",
    "print(\"error average:\",avge)"
   ]
  }
 ],
 "metadata": {
  "kernelspec": {
   "display_name": "Python 3",
   "language": "python",
   "name": "python3"
  },
  "language_info": {
   "codemirror_mode": {
    "name": "ipython",
    "version": 3
   },
   "file_extension": ".py",
   "mimetype": "text/x-python",
   "name": "python",
   "nbconvert_exporter": "python",
   "pygments_lexer": "ipython3",
   "version": "3.9.6"
  }
 },
 "nbformat": 4,
 "nbformat_minor": 2
}
