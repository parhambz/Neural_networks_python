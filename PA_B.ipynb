{
 "cells": [
  {
   "cell_type": "markdown",
   "id": "94238a68-ba05-4ecd-aef9-ccfbb73c34cc",
   "metadata": {
    "tags": []
   },
   "source": [
    "## TNN Programming Assignment B\n",
    "\n",
    "#### Group Members:\n",
    "* Mahan Akbari Moghanjoughi\n",
    "* Aylin Gheisar\n",
    "* Parham Bagherzadeh\n",
    "* Peter Roesler"
   ]
  },
  {
   "cell_type": "markdown",
   "id": "89d48814-167b-4187-ac4d-8cefe476ca78",
   "metadata": {
    "tags": []
   },
   "source": [
    "* We decided to use **pytorch** library to implement the multi layer perceptron to complete this assignment. The code from the previous assignment could also be used but with this library we could experiment with numerous optimization and loss algorithms with higher computation speed. Higher level libraries such as sklearn provide easier implementation with just a few function calls but pytorch offers much more flexibility and control over model implementation and layer by layer structure.\n",
    "* Pytorch is a fundemental library when implementing low level neural networks in python and thus can be simply installed using the pip command:"
   ]
  },
  {
   "cell_type": "markdown",
   "id": "5f626924-b2c8-4af8-98ab-69a01765fd74",
   "metadata": {},
   "source": [
    "```\n",
    "pip install torch\n",
    "```"
   ]
  },
  {
   "cell_type": "code",
   "execution_count": 1,
   "id": "edb84587-c8ae-4af8-847d-afd7cffff978",
   "metadata": {},
   "outputs": [],
   "source": [
    "import torch\n",
    "from torch import nn\n",
    "import matplotlib.pyplot as plt"
   ]
  },
  {
   "cell_type": "code",
   "execution_count": 2,
   "id": "f4059b03-6444-4b41-a6a0-48c8bd6b4059",
   "metadata": {},
   "outputs": [],
   "source": [
    "class NeuralNetwork(nn.Module):\n",
    "    def __init__(self, network_structure):\n",
    "        super().__init__()\n",
    "        \n",
    "        # We can devide this type of network into an encode and a decoder part\n",
    "        # The choice of tanh for the activation of the hidden layer and softmax for the output layer comes from resources at \n",
    "        # https://machinelearningmastery.com/choose-an-activation-function-for-deep-learning/\n",
    "        # and experimentation.\n",
    "        \n",
    "        # At first RelU was chosen for the hidden layer but sometimes the network would get stuck in a local minima and not improve even with\n",
    "        # a few several thousand additional training epochs. It might be because Relu is making the neurons less active but choosing tanh as the \n",
    "        # activation function made a huge improvement in both performance and convergance time.\n",
    "        self.encoder = nn.Sequential(\n",
    "            nn.Linear(network_structure[0], network_structure[1]),\n",
    "            nn.Tanh()\n",
    "        )\n",
    "        \n",
    "        # The choice of softmax at the output was more straightforward because we are trying to achieve multi class\n",
    "        # classification, the softmax function turns the output of the final layer into a probability distribution between classes. At first the\n",
    "        # output layer had linear activation because i thought you only needed it to choose the output label, but putting it into the structure \n",
    "        # greatly reduced the convergance time, so I believe it helps with loss calculation.\n",
    "        self.decoder = nn.Sequential(\n",
    "            nn.Linear(network_structure[1], network_structure[2]),\n",
    "            nn.Softmax(dim=1),\n",
    "        )\n",
    "\n",
    "    # Feed forward is passing data through the encoder and the decder layer\n",
    "    def forward(self, x):\n",
    "        encoded = self.encoder(x)\n",
    "        decoded = self.decoder(encoded)\n",
    "        \n",
    "        return decoded\n",
    "    \n",
    "    # Pytorch gives us much more control over the functionaly of the network, we can feed forward the network only halfway through and into the \n",
    "    # encoder layer to take a look into the hidden layers.\n",
    "    def get_encoded_hidden_neurons(self, x):\n",
    "        model.eval()\n",
    "        with torch.no_grad():\n",
    "            encoded = self.encoder(x)\n",
    "        \n",
    "        return encoded\n",
    "    \n",
    "    # For prediction the probabillity distribution that the last softmax layer generates is turned into binary one-hot encoded output\n",
    "    def predict(self, x):\n",
    "        model.eval()\n",
    "        with torch.no_grad():\n",
    "            pred = model(x)\n",
    "\n",
    "            y = torch.zeros_like(pred)\n",
    "            y[range(y.shape[0]), pred.argmax(dim=1)] = 1\n",
    "        \n",
    "        return y"
   ]
  },
  {
   "cell_type": "markdown",
   "id": "d41bbcd8-b05b-4949-a2d9-1a4a0b3b6f10",
   "metadata": {},
   "source": [
    "## 8-3-8 encoder/decoder"
   ]
  },
  {
   "cell_type": "code",
   "execution_count": 3,
   "id": "41a55c69-621b-4c11-8c2f-5e0f3a433e2b",
   "metadata": {},
   "outputs": [],
   "source": [
    "# For 8-3-8 encoder the training data is simple enough that I inputed by hand for demonstration\n",
    "X = [[1, 0, 0, 0, 0, 0, 0, 0],\n",
    "     [0, 1, 0, 0, 0, 0, 0, 0],\n",
    "     [0, 0, 1, 0, 0, 0, 0, 0],\n",
    "     [0, 0, 0, 1, 0, 0, 0, 0],\n",
    "     [0, 0, 0, 0, 1, 0, 0, 0],\n",
    "     [0, 0, 0, 0, 0, 1, 0, 0],\n",
    "     [0, 0, 0, 0, 0, 0, 1, 0],\n",
    "     [0, 0, 0, 0, 0, 0, 0, 1]]\n",
    "     \n",
    "# Desired output is getting the same data as the input\n",
    "y = X.copy()\n",
    "\n",
    "# We need to convert our lists into tensor datatype for pytorch to work with them\n",
    "X, y = torch.tensor(X, dtype=torch.float32), torch.tensor(y, dtype=torch.float32)"
   ]
  },
  {
   "cell_type": "code",
   "execution_count": 4,
   "id": "2532e34b-8874-4284-9077-13ea880a9f4e",
   "metadata": {},
   "outputs": [],
   "source": [
    "model = NeuralNetwork(network_structure=(8, 3, 8))\n",
    "\n",
    "# Choosing the loss function was made using experimentation and this resource https://www.v7labs.com/blog/pytorch-loss-functions.\n",
    "# Simply, mean squared error does not give high enough error for a misclassification of 0 and 1. I read that cross entropy loss is more effective\n",
    "# for classification purposes but still convergance was slow for both mse and cross entropy loss. I came across Binary Cross Entropy which is\n",
    "# intended for binary outputs for classification. It allowed faster and more consistent convergance.\n",
    "loss_fn = nn.BCELoss()"
   ]
  },
  {
   "cell_type": "code",
   "execution_count": 5,
   "id": "4d2b9341-232c-47c1-abbf-3e4eaffa8797",
   "metadata": {},
   "outputs": [],
   "source": [
    "# Choice of optimization algorithm and the hyper parameters was done using the learning curve. Stochastic gradient descent at first gave very bad\n",
    "# results; so I tested the network with adam optimizer which worked prefectly but was overkill for this task. So I debugged the SGD algorithm and \n",
    "# using the learning curve found out that my default value of 0.001 was way too little for this task and the optimal learning rate was arount 1.\n",
    "learning_rate = 1\n",
    "optimizer = torch.optim.SGD(model.parameters(), lr=learning_rate)\n",
    "# optimizer = torch.optim.Adam(model.parameters())"
   ]
  },
  {
   "cell_type": "code",
   "execution_count": 6,
   "id": "2786b57b-2d6c-49cc-be88-09680f6597a4",
   "metadata": {},
   "outputs": [
    {
     "name": "stderr",
     "output_type": "stream",
     "text": [
      "/opt/anaconda3/lib/python3.9/site-packages/torch/autograd/__init__.py:197: UserWarning: CUDA initialization: Unexpected error from cudaGetDeviceCount(). Did you run some cuda functions before calling NumCudaDevices() that might have already set an error? Error 804: forward compatibility was attempted on non supported HW (Triggered internally at /home/conda/feedstock_root/build_artifacts/pytorch-recipe_1673738523684/work/c10/cuda/CUDAFunctions.cpp:109.)\n",
      "  Variable._execution_engine.run_backward(  # Calls into the C++ engine to run the backward pass\n"
     ]
    },
    {
     "name": "stdout",
     "output_type": "stream",
     "text": [
      "loss: 0.372760  [  1/1000]\n",
      "loss: 0.228326  [101/1000]\n",
      "loss: 0.108997  [201/1000]\n",
      "loss: 0.058128  [301/1000]\n",
      "loss: 0.036226  [401/1000]\n",
      "loss: 0.025066  [501/1000]\n",
      "loss: 0.018790  [601/1000]\n",
      "loss: 0.014904  [701/1000]\n",
      "loss: 0.012301  [801/1000]\n",
      "loss: 0.010447  [901/1000]\n"
     ]
    }
   ],
   "source": [
    "max_epoch = 1000\n",
    "\n",
    "train_loss = torch.zeros((max_epoch,)).detach().numpy()\n",
    "\n",
    "model.train()\n",
    "for epoch in range(max_epoch):\n",
    "    # Compute error\n",
    "    pred = model(X)\n",
    "    loss = loss_fn(pred, y)\n",
    "    \n",
    "    # Backpropagation for a single step \n",
    "    optimizer.zero_grad()\n",
    "    loss.backward()\n",
    "    optimizer.step()\n",
    "    \n",
    "    # We cache the loss to plot the learning curve\n",
    "    train_loss[epoch] = loss\n",
    "\n",
    "    if epoch % 100 == 0:\n",
    "        loss, current = loss.item(), (epoch + 1)\n",
    "        print(f\"loss: {loss:>7f}  [{current:>3d}/{max_epoch:>3d}]\")"
   ]
  },
  {
   "cell_type": "code",
   "execution_count": 7,
   "id": "653ae4ec-29f3-4d98-ad10-efcf9e1c061f",
   "metadata": {},
   "outputs": [
    {
     "data": {
      "image/png": "[encoded data removed]",
      "text/plain": [
       "<Figure size 640x480 with 1 Axes>"
      ]
     },
     "metadata": {},
     "output_type": "display_data"
    }
   ],
   "source": [
    "# We plot the learning curve\n",
    "plt.plot(train_loss)\n",
    "plt.show()"
   ]
  },
  {
   "cell_type": "code",
   "execution_count": 8,
   "id": "30d228a5-1fdd-4511-b21f-9eabe1b21ac6",
   "metadata": {},
   "outputs": [
    {
     "data": {
      "text/plain": [
       "tensor([[1., 0., 0., 0., 0., 0., 0., 0.],\n",
       "        [0., 1., 0., 0., 0., 0., 0., 0.],\n",
       "        [0., 0., 1., 0., 0., 0., 0., 0.],\n",
       "        [0., 0., 0., 1., 0., 0., 0., 0.],\n",
       "        [0., 0., 0., 0., 1., 0., 0., 0.],\n",
       "        [0., 0., 0., 0., 0., 1., 0., 0.],\n",
       "        [0., 0., 0., 0., 0., 0., 1., 0.],\n",
       "        [0., 0., 0., 0., 0., 0., 0., 1.]])"
      ]
     },
     "execution_count": 8,
     "metadata": {},
     "output_type": "execute_result"
    }
   ],
   "source": [
    "# The model outputs the right values for all instances of X\n",
    "model.predict(X)"
   ]
  },
  {
   "cell_type": "code",
   "execution_count": 9,
   "id": "bba9ff57-aeb9-428b-bf32-5460e51f5c10",
   "metadata": {},
   "outputs": [
    {
     "data": {
      "text/plain": [
       "tensor([[ 0.6874, -0.9677, -0.9019],\n",
       "        [-0.3920,  0.8436, -0.9677],\n",
       "        [-0.9161, -0.8230,  0.9638],\n",
       "        [-0.9726, -0.8358, -0.8432],\n",
       "        [-0.9528,  0.9602,  0.5164],\n",
       "        [ 0.9749,  0.8396, -0.6586],\n",
       "        [ 0.6735,  0.9094,  0.9565],\n",
       "        [ 0.9347, -0.9389,  0.9307]])"
      ]
     },
     "execution_count": 9,
     "metadata": {},
     "output_type": "execute_result"
    }
   ],
   "source": [
    "# We can take a look at the activation values of the hidden (encoder) neurons\n",
    "model.get_encoded_hidden_neurons(X)"
   ]
  },
  {
   "cell_type": "code",
   "execution_count": 10,
   "id": "9cb7d24f-a594-4d8e-9ffa-837f3042bd7e",
   "metadata": {},
   "outputs": [
    {
     "data": {
      "text/plain": [
       "tensor([[ True, False, False],\n",
       "        [False,  True, False],\n",
       "        [False, False,  True],\n",
       "        [False, False, False],\n",
       "        [False,  True,  True],\n",
       "        [ True,  True, False],\n",
       "        [ True,  True,  True],\n",
       "        [ True, False,  True]])"
      ]
     },
     "execution_count": 10,
     "metadata": {},
     "output_type": "execute_result"
    }
   ],
   "source": [
    "# By setting a threshold (0 in this case) we can see that the network has learned to encode the input into binary numbers\n",
    "model.get_encoded_hidden_neurons(X) > 0"
   ]
  },
  {
   "cell_type": "markdown",
   "id": "1303bedf-ce6e-47c5-9a9f-61b3f5ffc8e9",
   "metadata": {},
   "source": [
    "## 8-2-8 encoder/decoder"
   ]
  },
  {
   "cell_type": "code",
   "execution_count": 11,
   "id": "0cf77ec2-f58e-4d4a-871e-15af1e61e729",
   "metadata": {},
   "outputs": [],
   "source": [
    "# The training data stays the same for this task as well\n",
    "X = [[1, 0, 0, 0, 0, 0, 0, 0],\n",
    "     [0, 1, 0, 0, 0, 0, 0, 0],\n",
    "     [0, 0, 1, 0, 0, 0, 0, 0],\n",
    "     [0, 0, 0, 1, 0, 0, 0, 0],\n",
    "     [0, 0, 0, 0, 1, 0, 0, 0],\n",
    "     [0, 0, 0, 0, 0, 1, 0, 0],\n",
    "     [0, 0, 0, 0, 0, 0, 1, 0],\n",
    "     [0, 0, 0, 0, 0, 0, 0, 1]]\n",
    "     \n",
    "y = X.copy()\n",
    "\n",
    "X, y = torch.tensor(X, dtype=torch.float32), torch.tensor(y, dtype=torch.float32)"
   ]
  },
  {
   "cell_type": "code",
   "execution_count": 12,
   "id": "2000a244-1228-413c-8dae-f66f21a7c40f",
   "metadata": {},
   "outputs": [],
   "source": [
    "# We change the network structure to 8, 2, 8\n",
    "model = NeuralNetwork(network_structure=(8, 2, 8))\n",
    "\n",
    "# The choice of loss and optimizer algorithms remains efficient throughout this task type, so they remain the same\n",
    "loss_fn = nn.BCELoss()\n",
    "\n",
    "learning_rate = 1\n",
    "optimizer = torch.optim.SGD(model.parameters(), lr=learning_rate)"
   ]
  },
  {
   "cell_type": "code",
   "execution_count": 13,
   "id": "02c0b2b3-dfce-4fb2-92b4-e07755b83346",
   "metadata": {},
   "outputs": [
    {
     "name": "stdout",
     "output_type": "stream",
     "text": [
      "loss: 0.385014  [  1/1000]\n",
      "loss: 0.269723  [101/1000]\n",
      "loss: 0.198674  [201/1000]\n",
      "loss: 0.165235  [301/1000]\n",
      "loss: 0.139024  [401/1000]\n",
      "loss: 0.115736  [501/1000]\n",
      "loss: 0.096974  [601/1000]\n",
      "loss: 0.082411  [701/1000]\n",
      "loss: 0.071092  [801/1000]\n",
      "loss: 0.062151  [901/1000]\n"
     ]
    }
   ],
   "source": [
    "max_epoch = 1000\n",
    "\n",
    "train_loss = torch.zeros((max_epoch,)).detach().numpy()\n",
    "\n",
    "model.train()\n",
    "for epoch in range(max_epoch):\n",
    "    # Compute error\n",
    "    pred = model(X)\n",
    "    loss = loss_fn(pred, y)\n",
    "    \n",
    "    # Backpropagation for a single step \n",
    "    optimizer.zero_grad()\n",
    "    loss.backward()\n",
    "    optimizer.step()\n",
    "    \n",
    "    # We cache the loss to plot the learning curve\n",
    "    train_loss[epoch] = loss\n",
    "\n",
    "    if epoch % 100 == 0:\n",
    "        loss, current = loss.item(), (epoch + 1)\n",
    "        print(f\"loss: {loss:>7f}  [{current:>3d}/{max_epoch:>3d}]\")"
   ]
  },
  {
   "cell_type": "code",
   "execution_count": 14,
   "id": "5c16ea7b-1715-48bb-ac64-d5e8cb238820",
   "metadata": {},
   "outputs": [
    {
     "data": {
      "image/png": "[encoded data removed]",
      "text/plain": [
       "<Figure size 640x480 with 1 Axes>"
      ]
     },
     "metadata": {},
     "output_type": "display_data"
    }
   ],
   "source": [
    "# We observe that learning curve is less steeper than the last task, but convergance is still reached in 1000 steps\n",
    "plt.plot(train_loss)\n",
    "plt.show()"
   ]
  },
  {
   "cell_type": "code",
   "execution_count": 15,
   "id": "5f401737-b7ef-4bad-b4df-27b2d0845366",
   "metadata": {},
   "outputs": [
    {
     "data": {
      "text/plain": [
       "tensor([[1., 0., 0., 0., 0., 0., 0., 0.],\n",
       "        [0., 1., 0., 0., 0., 0., 0., 0.],\n",
       "        [0., 0., 1., 0., 0., 0., 0., 0.],\n",
       "        [0., 0., 0., 1., 0., 0., 0., 0.],\n",
       "        [0., 0., 0., 0., 1., 0., 0., 0.],\n",
       "        [0., 0., 0., 0., 0., 1., 0., 0.],\n",
       "        [0., 0., 0., 0., 0., 0., 1., 0.],\n",
       "        [0., 0., 0., 0., 0., 0., 0., 1.]])"
      ]
     },
     "execution_count": 15,
     "metadata": {},
     "output_type": "execute_result"
    }
   ],
   "source": [
    "# The model still outputs the right values for all instances of X\n",
    "model.predict(X)"
   ]
  },
  {
   "cell_type": "code",
   "execution_count": 16,
   "id": "d30fa2e2-7343-4045-a1d5-f2ffdbfd4135",
   "metadata": {},
   "outputs": [
    {
     "data": {
      "text/plain": [
       "tensor([[ 0.9795,  0.1002],\n",
       "        [ 0.9741, -0.9766],\n",
       "        [-0.9814, -0.9504],\n",
       "        [ 0.7534,  0.9835],\n",
       "        [-0.0171, -0.9838],\n",
       "        [ 0.0323,  0.0517],\n",
       "        [-0.9741,  0.0990],\n",
       "        [-0.9089,  0.9785]])"
      ]
     },
     "execution_count": 16,
     "metadata": {},
     "output_type": "execute_result"
    }
   ],
   "source": [
    "# We can take a look at the activation values of the hidden (encoder) neurons\n",
    "model.get_encoded_hidden_neurons(X)"
   ]
  },
  {
   "cell_type": "code",
   "execution_count": 17,
   "id": "dafe9f3a-23a3-4019-a141-7ee9fffdbab0",
   "metadata": {},
   "outputs": [
    {
     "data": {
      "text/plain": [
       "tensor([[ True,  True],\n",
       "        [ True, False],\n",
       "        [False, False],\n",
       "        [ True,  True],\n",
       "        [False, False],\n",
       "        [ True,  True],\n",
       "        [False,  True],\n",
       "        [False,  True]])"
      ]
     },
     "execution_count": 17,
     "metadata": {},
     "output_type": "execute_result"
    }
   ],
   "source": [
    "# This time unique binary patterns are not present and the input is encoded as continous numbers\n",
    "model.get_encoded_hidden_neurons(X) > 0"
   ]
  },
  {
   "cell_type": "code",
   "execution_count": 18,
   "id": "265c5c80-cc2b-45e4-ada8-2bbaa4db2d84",
   "metadata": {},
   "outputs": [
    {
     "data": {
      "image/png": "[encoded data removed]",
      "text/plain": [
       "<Figure size 640x480 with 1 Axes>"
      ]
     },
     "metadata": {},
     "output_type": "display_data"
    }
   ],
   "source": [
    "# plotting the values of the hidden neurons shows that the previous layer has been trying to make the states linearly seperable\n",
    "encoded = model.get_encoded_hidden_neurons(X)\n",
    "plt.scatter(encoded[:, 0], encoded[:, 1])\n",
    "plt.show()"
   ]
  },
  {
   "cell_type": "markdown",
   "id": "4a6706df-e0f6-405f-b10a-9c0ec14dd71d",
   "metadata": {},
   "source": [
    "## 64-6-64 encoder/decoder"
   ]
  },
  {
   "cell_type": "code",
   "execution_count": 19,
   "id": "0cf53fe8-b7c8-4a59-9460-ed5970b2be7a",
   "metadata": {},
   "outputs": [],
   "source": [
    "# We can generate the training data of one-hot encoded numbers simply by generating a 64*64 identity matrix with pytorch\n",
    "X = torch.eye(64)\n",
    "y = X.clone()"
   ]
  },
  {
   "cell_type": "code",
   "execution_count": 20,
   "id": "b02bdc19-0f25-4c56-a6d4-2a3d388b4a19",
   "metadata": {},
   "outputs": [],
   "source": [
    "# We change the network structure to 64, 6, 64\n",
    "model = NeuralNetwork(network_structure=(64, 6, 64))\n",
    "\n",
    "loss_fn = nn.BCELoss()\n",
    "\n",
    "# Choosing the learning rate for this problem was really fascinating as it turned out that a learning rate of 100 was ideal to converge in\n",
    "# 1000 epochs, it seemed like I could increase the rate to converge even faster. So I believe the error surface for this task might be very flat\n",
    "learning_rate = 100\n",
    "optimizer = torch.optim.SGD(model.parameters(), lr=learning_rate)"
   ]
  },
  {
   "cell_type": "code",
   "execution_count": 21,
   "id": "7933a146-67f1-4ddb-af82-bb9726887fd3",
   "metadata": {},
   "outputs": [
    {
     "name": "stdout",
     "output_type": "stream",
     "text": [
      "loss: 0.080970  [  1/1000]\n",
      "loss: 0.046635  [101/1000]\n",
      "loss: 0.019962  [201/1000]\n",
      "loss: 0.009735  [301/1000]\n",
      "loss: 0.005755  [401/1000]\n",
      "loss: 0.003955  [501/1000]\n",
      "loss: 0.002971  [601/1000]\n",
      "loss: 0.002362  [701/1000]\n",
      "loss: 0.001953  [801/1000]\n",
      "loss: 0.001661  [901/1000]\n"
     ]
    }
   ],
   "source": [
    "max_epoch = 1000\n",
    "\n",
    "train_loss = torch.zeros((max_epoch,)).detach().numpy()\n",
    "\n",
    "model.train()\n",
    "for epoch in range(max_epoch):\n",
    "    # Compute error\n",
    "    pred = model(X)\n",
    "    loss = loss_fn(pred, y)\n",
    "    \n",
    "    # Backpropagation for a single step \n",
    "    optimizer.zero_grad()\n",
    "    loss.backward()\n",
    "    optimizer.step()\n",
    "    \n",
    "    # We cache the loss to plot the learning curve\n",
    "    train_loss[epoch] = loss\n",
    "\n",
    "    if epoch % 100 == 0:\n",
    "        loss, current = loss.item(), (epoch + 1)\n",
    "        print(f\"loss: {loss:>7f}  [{current:>3d}/{max_epoch:>3d}]\")"
   ]
  },
  {
   "cell_type": "code",
   "execution_count": 22,
   "id": "5df1cb09-4111-4d06-84d6-609a754ac281",
   "metadata": {},
   "outputs": [
    {
     "data": {
      "image/png": "[encoded data removed]",
      "text/plain": [
       "<Figure size 640x480 with 1 Axes>"
      ]
     },
     "metadata": {},
     "output_type": "display_data"
    }
   ],
   "source": [
    "# the learning curve stablizes in around 600 epochs with the huge learning rate\n",
    "plt.plot(train_loss)\n",
    "plt.show()"
   ]
  },
  {
   "cell_type": "code",
   "execution_count": 23,
   "id": "00b7d45f-641b-4c7d-ac85-04e1b823bdea",
   "metadata": {},
   "outputs": [
    {
     "data": {
      "text/plain": [
       "tensor([[True, True, True,  ..., True, True, True],\n",
       "        [True, True, True,  ..., True, True, True],\n",
       "        [True, True, True,  ..., True, True, True],\n",
       "        ...,\n",
       "        [True, True, True,  ..., True, True, True],\n",
       "        [True, True, True,  ..., True, True, True],\n",
       "        [True, True, True,  ..., True, True, True]])"
      ]
     },
     "execution_count": 23,
     "metadata": {},
     "output_type": "execute_result"
    }
   ],
   "source": [
    "# The model still outputs the right values for all instances of X\n",
    "model.predict(X) == X"
   ]
  },
  {
   "cell_type": "code",
   "execution_count": 24,
   "id": "f461461c-3698-4f8c-a97f-20c6ccf85eb4",
   "metadata": {},
   "outputs": [
    {
     "data": {
      "text/plain": [
       "tensor([ 0,  1,  2,  3,  4,  5,  6,  7,  8,  9, 10, 11, 12, 13, 14, 15, 16, 17,\n",
       "        18, 19, 20, 21, 22, 23, 24, 25, 26, 27, 28, 29, 30, 31, 32, 33, 34, 35,\n",
       "        36, 37, 38, 39, 40, 41, 42, 43, 44, 45, 46, 47, 48, 49, 50, 51, 52, 53,\n",
       "        54, 55, 56, 57, 58, 59, 60, 61, 62, 63])"
      ]
     },
     "execution_count": 24,
     "metadata": {},
     "output_type": "execute_result"
    }
   ],
   "source": [
    "model.predict(X).argmax(dim=1)"
   ]
  },
  {
   "cell_type": "code",
   "execution_count": 25,
   "id": "d2a83afb-4786-4485-8981-755c2d3591e3",
   "metadata": {},
   "outputs": [
    {
     "data": {
      "text/plain": [
       "tensor([[-0.8235,  0.9450, -0.9733, -0.9032, -0.3399,  0.9416],\n",
       "        [-0.1659, -0.8712,  0.8609,  0.9077, -0.9795,  0.9627],\n",
       "        [-0.8341,  0.4312,  0.2890, -0.9830,  0.1353,  0.9752],\n",
       "        [-0.9394, -0.9540, -0.9747, -0.5680,  0.9575, -0.5411],\n",
       "        [ 0.9477,  0.9242, -0.3255, -0.9615, -0.9578,  0.9599],\n",
       "        [ 0.1195,  0.9272, -0.9754,  0.9012,  0.9576,  0.8372],\n",
       "        [-0.4481, -0.8738,  0.2608, -0.9832,  0.6170, -0.9727],\n",
       "        [-0.9513, -0.9720,  0.7957,  0.4873, -0.9483, -0.9151],\n",
       "        [-0.9482, -0.9564,  0.6825, -0.8811, -0.9674,  0.9358],\n",
       "        [-0.2585,  0.9641, -0.9460, -0.9334, -0.9786, -0.5385],\n",
       "        [ 0.9552,  0.6980, -0.9684,  0.3679, -0.9677,  0.1080],\n",
       "        [-0.9697,  0.3348, -0.9653, -0.9632,  0.0711, -0.9388],\n",
       "        [ 0.8695,  0.8886,  0.3046,  0.9752, -0.3358, -0.9669],\n",
       "        [ 0.9725,  0.9213, -0.9532, -0.9374, -0.1680, -0.9562],\n",
       "        [ 0.9482,  0.9117,  0.9468,  0.9604, -0.9711,  0.7789],\n",
       "        [ 0.1185, -0.8173, -0.9610,  0.9589, -0.7745, -0.8929],\n",
       "        [ 0.0445,  0.9334, -0.9449, -0.9515,  0.9788, -0.9034],\n",
       "        [-0.6519,  0.5945,  0.9438,  0.9426, -0.9781, -0.4541],\n",
       "        [-0.9732,  0.9799, -0.0498, -0.0115,  0.5685, -0.9312],\n",
       "        [-0.1745,  0.9700,  0.9690,  0.9254,  0.9446, -0.9459],\n",
       "        [ 0.8088,  0.9664, -0.7068, -0.8725,  0.9595,  0.9175],\n",
       "        [ 0.9625,  0.9633, -0.9668,  0.8728,  0.8413, -0.9477],\n",
       "        [-0.9619, -0.8217, -0.6680, -0.8255, -0.9788, -0.9007],\n",
       "        [ 0.9569,  0.0484,  0.9722, -0.2663,  0.9663, -0.9628],\n",
       "        [-0.9738, -0.0895,  0.3921,  0.9720,  0.3355, -0.9621],\n",
       "        [-0.2920, -0.9680,  0.9716,  0.9406,  0.9519,  0.9194],\n",
       "        [-0.9020,  0.9089, -0.8921,  0.9231, -0.9442,  0.9526],\n",
       "        [ 0.2998, -0.9807, -0.7422,  0.5050,  0.9581, -0.9694],\n",
       "        [ 0.9697, -0.0473, -0.0133,  0.9489,  0.9482, -0.6683],\n",
       "        [ 0.9601,  0.9641, -0.4717,  0.9754, -0.1555,  0.9528],\n",
       "        [ 0.9030, -0.6891,  0.9697, -0.9702,  0.9480,  0.9153],\n",
       "        [-0.9623, -0.9670,  0.9711,  0.0889,  0.9485, -0.8373],\n",
       "        [-0.9402,  0.9643,  0.8353, -0.0621,  0.9725,  0.9561],\n",
       "        [ 0.4183, -0.9827, -0.9561, -0.9678, -0.0142, -0.5735],\n",
       "        [-0.9820,  0.1839, -0.8379,  0.1942,  0.9611,  0.9033],\n",
       "        [ 0.9442, -0.9081,  0.9295,  0.9259, -0.9580, -0.9656],\n",
       "        [ 0.9673, -0.6643, -0.9646, -0.8450,  0.7021,  0.9668],\n",
       "        [ 0.9453, -0.9295, -0.9667,  0.9434,  0.9375,  0.7835],\n",
       "        [-0.9788, -0.9151,  0.8613, -0.4980,  0.7302,  0.9480],\n",
       "        [ 0.1084, -0.8503, -0.9437, -0.9673, -0.9461,  0.9345],\n",
       "        [ 0.9722, -0.2123,  0.7012, -0.1877, -0.5324,  0.9781],\n",
       "        [-0.9679,  0.5920,  0.9498,  0.9689, -0.1582,  0.9380],\n",
       "        [ 0.8239,  0.9763,  0.9609, -0.5925,  0.2714,  0.9503],\n",
       "        [-0.5363, -0.8907, -0.2731,  0.9625,  0.1936,  0.9756],\n",
       "        [ 0.9183, -0.9810,  0.9450, -0.9353, -0.8830,  0.2678],\n",
       "        [-0.6552,  0.9621,  0.9579, -0.9649,  0.9654, -0.5957],\n",
       "        [ 0.9379,  0.9750,  0.4909, -0.2215, -0.9724, -0.8332],\n",
       "        [-0.4894, -0.9741, -0.6313, -0.9571,  0.9705,  0.9451],\n",
       "        [ 0.9685, -0.2927, -0.1959, -0.9621,  0.9051, -0.4451],\n",
       "        [ 0.9639, -0.1873,  0.4006,  0.8337,  0.9782,  0.9666],\n",
       "        [ 0.7611, -0.4109,  0.8152, -0.9585, -0.9725, -0.9712],\n",
       "        [-0.9311,  0.9540, -0.8300,  0.9437, -0.9668, -0.9219],\n",
       "        [-0.9658, -0.2009,  0.9811, -0.8765, -0.1773, -0.2538],\n",
       "        [-0.9292,  0.9399,  0.8918, -0.8218, -0.9201, -0.9727],\n",
       "        [ 0.3912,  0.9705,  0.9401,  0.9641,  0.9294,  0.6966],\n",
       "        [-0.6302,  0.9263,  0.9649, -0.7515, -0.9821,  0.8121],\n",
       "        [ 0.8752,  0.9564,  0.9478, -0.9800,  0.0609, -0.9188],\n",
       "        [ 0.9748, -0.6470, -0.9454, -0.3021, -0.9719, -0.9512],\n",
       "        [-0.9535, -0.9520, -0.9418,  0.3746, -0.9686,  0.7141],\n",
       "        [ 0.4553, -0.9603,  0.9701,  0.9451,  0.9409, -0.9635],\n",
       "        [-0.9676, -0.9375, -0.9729,  0.9733,  0.3763, -0.2472],\n",
       "        [ 0.9393, -0.9587, -0.9474,  0.9213, -0.9379,  0.9376],\n",
       "        [-0.7142,  0.6188, -0.9761,  0.9681,  0.8517, -0.9611],\n",
       "        [ 0.9642, -0.9734,  0.9599,  0.9541, -0.0728,  0.3871]])"
      ]
     },
     "execution_count": 25,
     "metadata": {},
     "output_type": "execute_result"
    }
   ],
   "source": [
    "# The activation values of the hidden neurons (seem to be) encoding for 6 bit numbers\n",
    "model.get_encoded_hidden_neurons(X)"
   ]
  },
  {
   "cell_type": "markdown",
   "id": "8569e13f-ced0-457d-b8a5-4b3428748bb8",
   "metadata": {},
   "source": [
    "## [Attempt at] 50-2-50 encoder/decoder"
   ]
  },
  {
   "cell_type": "code",
   "execution_count": 26,
   "id": "297267c0-f9e0-48bc-816c-291db4d9141c",
   "metadata": {},
   "outputs": [],
   "source": [
    "# We can generate the training data of one-hot encoded numbers simply by generating a 50*50 identity matrix with pytorch\n",
    "X = torch.eye(50)\n",
    "y = X.clone()"
   ]
  },
  {
   "cell_type": "code",
   "execution_count": 27,
   "id": "c04d84b1-12e3-46b9-aa0e-943d426edd85",
   "metadata": {},
   "outputs": [],
   "source": [
    "# We change the network structure to 50, 2, 50\n",
    "model = NeuralNetwork(network_structure=(50, 2, 50))\n",
    "\n",
    "loss_fn = nn.BCELoss()\n",
    "\n",
    "# I was not able to make the model converge on simple SGD with any of the hyper parameters. I tried adjusting the learning rate, momentum, decay.\n",
    "# Adam optimizer seemed to converge well by adjusting the learning rate\n",
    "\n",
    "# learning_rate = 20\n",
    "# optimizer = torch.optim.SGD(model.parameters(), lr=learning_rate)\n",
    "\n",
    "learning_rate = 0.1\n",
    "optimizer = torch.optim.Adam(model.parameters(), lr=learning_rate)"
   ]
  },
  {
   "cell_type": "code",
   "execution_count": 28,
   "id": "eb5d1fa1-b916-43ec-bdaf-d603ed6c3ed7",
   "metadata": {},
   "outputs": [
    {
     "name": "stdout",
     "output_type": "stream",
     "text": [
      "loss: 0.099747  [  1/5000]\n",
      "loss: 0.052825  [101/5000]\n",
      "loss: 0.044469  [201/5000]\n",
      "loss: 0.039061  [301/5000]\n",
      "loss: 0.035189  [401/5000]\n",
      "loss: 0.032430  [501/5000]\n",
      "loss: 0.029475  [601/5000]\n",
      "loss: 0.026153  [701/5000]\n",
      "loss: 0.023152  [801/5000]\n",
      "loss: 0.021220  [901/5000]\n",
      "loss: 0.018856  [1001/5000]\n",
      "loss: 0.017761  [1101/5000]\n",
      "loss: 0.017030  [1201/5000]\n",
      "loss: 0.015799  [1301/5000]\n",
      "loss: 0.015224  [1401/5000]\n",
      "loss: 0.014746  [1501/5000]\n",
      "loss: 0.014166  [1601/5000]\n",
      "loss: 0.013742  [1701/5000]\n",
      "loss: 0.013467  [1801/5000]\n",
      "loss: 0.011445  [1901/5000]\n",
      "loss: 0.011055  [2001/5000]\n",
      "loss: 0.009599  [2101/5000]\n",
      "loss: 0.009239  [2201/5000]\n",
      "loss: 0.009056  [2301/5000]\n",
      "loss: 0.008852  [2401/5000]\n",
      "loss: 0.007777  [2501/5000]\n",
      "loss: 0.007565  [2601/5000]\n",
      "loss: 0.007397  [2701/5000]\n",
      "loss: 0.007250  [2801/5000]\n",
      "loss: 0.006731  [2901/5000]\n",
      "loss: 0.006139  [3001/5000]\n",
      "loss: 0.005994  [3101/5000]\n",
      "loss: 0.005875  [3201/5000]\n",
      "loss: 0.005765  [3301/5000]\n",
      "loss: 0.005668  [3401/5000]\n",
      "loss: 0.005586  [3501/5000]\n",
      "loss: 0.005516  [3601/5000]\n",
      "loss: 0.005515  [3701/5000]\n",
      "loss: 0.004311  [3801/5000]\n",
      "loss: 0.004196  [3901/5000]\n",
      "loss: 0.004133  [4001/5000]\n",
      "loss: 0.004082  [4101/5000]\n",
      "loss: 0.004040  [4201/5000]\n",
      "loss: 0.004003  [4301/5000]\n",
      "loss: 0.003968  [4401/5000]\n",
      "loss: 0.003753  [4501/5000]\n",
      "loss: 0.003076  [4601/5000]\n",
      "loss: 0.002961  [4701/5000]\n",
      "loss: 0.002914  [4801/5000]\n",
      "loss: 0.002887  [4901/5000]\n"
     ]
    }
   ],
   "source": [
    "# We also need to train the model for longer\n",
    "max_epoch = 5000\n",
    "\n",
    "train_loss = torch.zeros((max_epoch,)).detach().numpy()\n",
    "\n",
    "model.train()\n",
    "for epoch in range(max_epoch):\n",
    "    # Compute error\n",
    "    pred = model(X)\n",
    "    loss = loss_fn(pred, y)\n",
    "    \n",
    "    # Backpropagation for a single step \n",
    "    optimizer.zero_grad()\n",
    "    loss.backward()\n",
    "    optimizer.step()\n",
    "    \n",
    "    # We cache the loss to plot the learning curve\n",
    "    train_loss[epoch] = loss\n",
    "\n",
    "    if epoch % 100 == 0:\n",
    "        loss, current = loss.item(), (epoch + 1)\n",
    "        print(f\"loss: {loss:>7f}  [{current:>3d}/{max_epoch:>3d}]\")"
   ]
  },
  {
   "cell_type": "code",
   "execution_count": 29,
   "id": "ba892e22-b213-4e18-931f-8084fae48b69",
   "metadata": {},
   "outputs": [
    {
     "data": {
      "image/png": "[encoded data removed]",
      "text/plain": [
       "<Figure size 640x480 with 1 Axes>"
      ]
     },
     "metadata": {},
     "output_type": "display_data"
    }
   ],
   "source": [
    "# The error always seems to spike during the training. This might be an artifact of the learning algorithm.\n",
    "plt.plot(train_loss)\n",
    "plt.show()"
   ]
  },
  {
   "cell_type": "code",
   "execution_count": 30,
   "id": "02065248-62c2-4606-8630-d234f0e27361",
   "metadata": {},
   "outputs": [
    {
     "data": {
      "text/plain": [
       "tensor([[True, True, True,  ..., True, True, True],\n",
       "        [True, True, True,  ..., True, True, True],\n",
       "        [True, True, True,  ..., True, True, True],\n",
       "        ...,\n",
       "        [True, True, True,  ..., True, True, True],\n",
       "        [True, True, True,  ..., True, True, True],\n",
       "        [True, True, True,  ..., True, True, True]])"
      ]
     },
     "execution_count": 30,
     "metadata": {},
     "output_type": "execute_result"
    }
   ],
   "source": [
    "# The model succeeds in encoding 50 states into 2 hidden neurons\n",
    "model.predict(X) == X"
   ]
  },
  {
   "cell_type": "code",
   "execution_count": 31,
   "id": "d2693741-b8b8-4247-bcaf-6fa70f166cd1",
   "metadata": {},
   "outputs": [
    {
     "data": {
      "text/plain": [
       "tensor([ 0,  1,  2,  3,  4,  5,  6,  7,  8,  9, 10, 11, 12, 13, 14, 15, 16, 17,\n",
       "        18, 19, 20, 21, 22, 23, 24, 23, 26, 27, 28, 29, 30, 31, 32, 33, 34, 35,\n",
       "        36, 37, 38, 27, 40, 41, 42, 43, 44, 45, 46, 47, 48, 49])"
      ]
     },
     "execution_count": 31,
     "metadata": {},
     "output_type": "execute_result"
    }
   ],
   "source": [
    "model.predict(X).argmax(dim=1)"
   ]
  },
  {
   "cell_type": "code",
   "execution_count": 32,
   "id": "11931220-81f8-4372-a009-accff0489496",
   "metadata": {},
   "outputs": [
    {
     "data": {
      "text/plain": [
       "tensor([[ 0.1843, -0.3863],\n",
       "        [-1.0000, -0.6899],\n",
       "        [-0.6928, -0.8796],\n",
       "        [ 0.5785,  0.7117],\n",
       "        [-0.3986,  1.0000],\n",
       "        [ 0.6425,  0.0107],\n",
       "        [ 0.7077,  0.3596],\n",
       "        [-0.5953,  0.1731],\n",
       "        [-0.0369, -1.0000],\n",
       "        [ 1.0000, -0.4785]])"
      ]
     },
     "execution_count": 32,
     "metadata": {},
     "output_type": "execute_result"
    }
   ],
   "source": [
    "# Reading the hidden activation values won't help in understanding the function of the network\n",
    "model.get_encoded_hidden_neurons(X)[:10]"
   ]
  },
  {
   "cell_type": "code",
   "execution_count": 33,
   "id": "4e027895-5e54-48ec-96f3-716c468500b9",
   "metadata": {},
   "outputs": [
    {
     "data": {
      "image/png": "[encoded data removed]",
      "text/plain": [
       "<Figure size 640x480 with 1 Axes>"
      ]
     },
     "metadata": {},
     "output_type": "display_data"
    }
   ],
   "source": [
    "# plotting the values of the hidden neurons shows that the previous layer has been trying to make the states linearly seperable\n",
    "encoded = model.get_encoded_hidden_neurons(X)\n",
    "plt.scatter(encoded[:, 0], encoded[:, 1])\n",
    "plt.show()"
   ]
  },
  {
   "cell_type": "code",
   "execution_count": null,
   "id": "36451500-fb47-4dd0-ac9d-8aa7c9d3c26d",
   "metadata": {},
   "outputs": [],
   "source": []
  }
 ],
 "metadata": {
  "kernelspec": {
   "display_name": "conda",
   "language": "python",
   "name": "conda"
  },
  "language_info": {
   "codemirror_mode": {
    "name": "ipython",
    "version": 3
   },
   "file_extension": ".py",
   "mimetype": "text/x-python",
   "name": "python",
   "nbconvert_exporter": "python",
   "pygments_lexer": "ipython3",
   "version": "3.9.15"
  }
 },
 "nbformat": 4,
 "nbformat_minor": 5
}
